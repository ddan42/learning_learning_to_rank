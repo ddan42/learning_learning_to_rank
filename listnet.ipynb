{
  "nbformat": 4,
  "nbformat_minor": 0,
  "metadata": {
    "colab": {
      "provenance": []
    },
    "kernelspec": {
      "name": "python3",
      "display_name": "Python 3"
    },
    "language_info": {
      "name": "python"
    }
  },
  "cells": [
    {
      "cell_type": "code",
      "source": [
        "pip install catboost"
      ],
      "metadata": {
        "colab": {
          "base_uri": "https://localhost:8080/"
        },
        "id": "989HnYsn0Ffu",
        "outputId": "d397291b-2952-4781-b49e-6d974add8e84"
      },
      "execution_count": 1,
      "outputs": [
        {
          "output_type": "stream",
          "name": "stdout",
          "text": [
            "Collecting catboost\n",
            "  Downloading catboost-1.2-cp310-cp310-manylinux2014_x86_64.whl (98.6 MB)\n",
            "\u001b[2K     \u001b[90m━━━━━━━━━━━━━━━━━━━━━━━━━━━━━━━━━━━━━━━━\u001b[0m \u001b[32m98.6/98.6 MB\u001b[0m \u001b[31m10.6 MB/s\u001b[0m eta \u001b[36m0:00:00\u001b[0m\n",
            "\u001b[?25hRequirement already satisfied: graphviz in /usr/local/lib/python3.10/dist-packages (from catboost) (0.20.1)\n",
            "Requirement already satisfied: matplotlib in /usr/local/lib/python3.10/dist-packages (from catboost) (3.7.1)\n",
            "Requirement already satisfied: numpy>=1.16.0 in /usr/local/lib/python3.10/dist-packages (from catboost) (1.22.4)\n",
            "Requirement already satisfied: pandas>=0.24 in /usr/local/lib/python3.10/dist-packages (from catboost) (1.5.3)\n",
            "Requirement already satisfied: scipy in /usr/local/lib/python3.10/dist-packages (from catboost) (1.10.1)\n",
            "Requirement already satisfied: plotly in /usr/local/lib/python3.10/dist-packages (from catboost) (5.13.1)\n",
            "Requirement already satisfied: six in /usr/local/lib/python3.10/dist-packages (from catboost) (1.16.0)\n",
            "Requirement already satisfied: python-dateutil>=2.8.1 in /usr/local/lib/python3.10/dist-packages (from pandas>=0.24->catboost) (2.8.2)\n",
            "Requirement already satisfied: pytz>=2020.1 in /usr/local/lib/python3.10/dist-packages (from pandas>=0.24->catboost) (2022.7.1)\n",
            "Requirement already satisfied: contourpy>=1.0.1 in /usr/local/lib/python3.10/dist-packages (from matplotlib->catboost) (1.1.0)\n",
            "Requirement already satisfied: cycler>=0.10 in /usr/local/lib/python3.10/dist-packages (from matplotlib->catboost) (0.11.0)\n",
            "Requirement already satisfied: fonttools>=4.22.0 in /usr/local/lib/python3.10/dist-packages (from matplotlib->catboost) (4.41.0)\n",
            "Requirement already satisfied: kiwisolver>=1.0.1 in /usr/local/lib/python3.10/dist-packages (from matplotlib->catboost) (1.4.4)\n",
            "Requirement already satisfied: packaging>=20.0 in /usr/local/lib/python3.10/dist-packages (from matplotlib->catboost) (23.1)\n",
            "Requirement already satisfied: pillow>=6.2.0 in /usr/local/lib/python3.10/dist-packages (from matplotlib->catboost) (8.4.0)\n",
            "Requirement already satisfied: pyparsing>=2.3.1 in /usr/local/lib/python3.10/dist-packages (from matplotlib->catboost) (3.1.0)\n",
            "Requirement already satisfied: tenacity>=6.2.0 in /usr/local/lib/python3.10/dist-packages (from plotly->catboost) (8.2.2)\n",
            "Installing collected packages: catboost\n",
            "Successfully installed catboost-1.2\n"
          ]
        }
      ]
    },
    {
      "cell_type": "code",
      "execution_count": 2,
      "metadata": {
        "id": "kvHze5RVAunc"
      },
      "outputs": [],
      "source": [
        "import math\n",
        "\n",
        "import numpy as np\n",
        "import torch\n",
        "from catboost.datasets import msrank\n",
        "from sklearn.preprocessing import StandardScaler\n",
        "\n",
        "from typing import List"
      ]
    },
    {
      "cell_type": "code",
      "source": [
        "from catboost.datasets import msrank_10k"
      ],
      "metadata": {
        "id": "qG1CtF659Zz7"
      },
      "execution_count": 25,
      "outputs": []
    },
    {
      "cell_type": "code",
      "source": [
        "from math import log2"
      ],
      "metadata": {
        "id": "fcKQBBOwWwqi"
      },
      "execution_count": 3,
      "outputs": []
    },
    {
      "cell_type": "code",
      "source": [
        "from sklearn.metrics import ndcg_score"
      ],
      "metadata": {
        "id": "SD3-3uTH4e43"
      },
      "execution_count": 4,
      "outputs": []
    },
    {
      "cell_type": "code",
      "source": [
        "class ListNet(torch.nn.Module):\n",
        "    def __init__(self, num_input_features: int, hidden_dim: int):\n",
        "        super().__init__()\n",
        "        self.hidden_dim = hidden_dim\n",
        "        self.model = torch.nn.Sequential(\n",
        "            torch.nn.Linear(num_input_features, self.hidden_dim),\n",
        "            torch.nn.ReLU(),\n",
        "            torch.nn.Linear(self.hidden_dim, 1),\n",
        "        )\n",
        "\n",
        "    def forward(self, input_1: torch.Tensor) -> torch.Tensor:\n",
        "        logits = self.model(input_1)\n",
        "        return logits"
      ],
      "metadata": {
        "id": "vNyGroeA-GTK"
      },
      "execution_count": 5,
      "outputs": []
    },
    {
      "cell_type": "code",
      "source": [
        "class Solution:\n",
        "    def __init__(self, n_epochs: int = 5, listnet_hidden_dim: int = 30,\n",
        "                 lr: float = 0.001, ndcg_top_k: int = 10):\n",
        "        self._prepare_data()\n",
        "        self.num_input_features = self.X_train.shape[1]\n",
        "        self.ndcg_top_k = ndcg_top_k\n",
        "        self.n_epochs = n_epochs\n",
        "\n",
        "        self.model = self._create_model(\n",
        "            self.num_input_features, listnet_hidden_dim)\n",
        "        self.optimizer = torch.optim.Adam(self.model.parameters(), lr=lr)\n",
        "\n",
        "    def _get_data(self) -> List[np.ndarray]:\n",
        "        train_df, test_df = msrank()\n",
        "\n",
        "        X_train = train_df.drop([0, 1], axis=1).values\n",
        "        y_train = train_df[0].values\n",
        "        query_ids_train = train_df[1].values.astype(int)\n",
        "\n",
        "        X_test = test_df.drop([0, 1], axis=1).values\n",
        "        y_test = test_df[0].values\n",
        "        query_ids_test = test_df[1].values.astype(int)\n",
        "\n",
        "        return [X_train, y_train, query_ids_train, X_test, y_test, query_ids_test]\n",
        "\n",
        "    def _prepare_data(self) -> None:\n",
        "        (X_train, y_train, self.query_ids_train,\n",
        "            X_test, y_test, self.query_ids_test) = self._get_data()\n",
        "        self.X_train = torch.FloatTensor(self._scale_features_in_query_groups(X_train, self.query_ids_train))\n",
        "        self.y_train = torch.FloatTensor(y_train)\n",
        "\n",
        "        self.X_test = torch.FloatTensor(self._scale_features_in_query_groups(X_test, self.query_ids_test))\n",
        "        self.y_test = torch.FloatTensor(y_test)\n",
        "\n",
        "    def _scale_features_in_query_groups(self, inp_feat_array: np.ndarray,\n",
        "                                        inp_query_ids: np.ndarray) -> np.ndarray:\n",
        "        query_idx = {query: [] for query in np.unique(inp_query_ids)}\n",
        "        scaler = StandardScaler()\n",
        "        for idx, query in enumerate(inp_query_ids, 0):\n",
        "            query_idx[query].append(idx)\n",
        "        for query in query_idx:\n",
        "            inp_feat_array[query_idx[query]] = scaler.fit_transform(inp_feat_array[query_idx[query]])\n",
        "        return inp_feat_array\n",
        "\n",
        "    def _create_model(self, listnet_num_input_features: int,\n",
        "                      listnet_hidden_dim: int) -> torch.nn.Module:\n",
        "        torch.manual_seed(0)\n",
        "        net = ListNet(listnet_num_input_features, listnet_hidden_dim)\n",
        "        return net\n",
        "\n",
        "    def fit(self) -> List[float]:\n",
        "        for n in range(self.n_epochs):\n",
        "            self._train_one_epoch()\n",
        "            print(f'epoch_{n}: {self._eval_test_set()}')\n",
        "\n",
        "    def _calc_loss(self, batch_ys: torch.FloatTensor,\n",
        "                   batch_pred: torch.FloatTensor) -> torch.FloatTensor:\n",
        "        P_y_i = torch.softmax(batch_ys, dim=0)\n",
        "        P_z_i = torch.softmax(batch_pred, dim=0)\n",
        "        return -torch.sum(P_y_i * torch.log(P_z_i))\n",
        "\n",
        "    def _train_one_epoch(self) -> None:\n",
        "        self.model.train(True)\n",
        "        query_idx = {query: [] for query in np.unique(self.query_ids_train)}\n",
        "        for idx, query in enumerate(self.query_ids_train, 0):\n",
        "            query_idx[query].append(idx)\n",
        "        for query, ids in query_idx.items():\n",
        "            self.optimizer.zero_grad()\n",
        "\n",
        "            ys_pred = self.model(self.X_train[ids]).reshape(-1,)\n",
        "            ys_true = self.y_train[ids]\n",
        "            loss = self._calc_loss(ys_true, ys_pred)\n",
        "            loss.backward(retain_graph=True)\n",
        "            self.optimizer.step()\n",
        "\n",
        "    def _eval_test_set(self) -> float:\n",
        "        with torch.no_grad():\n",
        "            self.model.eval()\n",
        "            query_idx = {query: [] for query in np.unique(sol.query_ids_test)}\n",
        "            for idx, query in enumerate(sol.query_ids_test, 0):\n",
        "                query_idx[query].append(idx)\n",
        "            self.model.eval()\n",
        "            ndcgs = []\n",
        "            for query, ids in query_idx.items():\n",
        "                ys_pred = self.model(self.X_test[ids])\n",
        "                ndcg = self._ndcg_k(self.y_test[ids], ys_pred, self.ndcg_top_k)\n",
        "                if np.isnan(ndcg):\n",
        "                  ndcg = 0\n",
        "                ndcgs.append(ndcg)\n",
        "            return np.mean(ndcgs)\n",
        "\n",
        "    def _ndcg_k(self, ys_true: torch.Tensor, ys_pred: torch.Tensor,\n",
        "                ndcg_top_k: int) -> float:\n",
        "        def dcg(ys_true, ys_pred):\n",
        "            _, argsort = torch.sort(ys_pred, descending=True, dim=0)\n",
        "            argsort = argsort[:ndcg_top_k]\n",
        "            ys_true_sorted = ys_true[argsort]\n",
        "            ret = 0\n",
        "            for i, l in enumerate(ys_true_sorted, 1):\n",
        "                ret += (2 ** l - 1) / math.log2(1 + i)\n",
        "            return ret\n",
        "        ideal_dcg = dcg(ys_true, ys_true)\n",
        "        pred_dcg = dcg(ys_true, ys_pred)\n",
        "        return (pred_dcg / ideal_dcg).item()"
      ],
      "metadata": {
        "id": "9PPNkwbp8hTt"
      },
      "execution_count": 29,
      "outputs": []
    },
    {
      "cell_type": "code",
      "source": [
        "sol = Solution(n_epochs = 20, lr = 0.0005)"
      ],
      "metadata": {
        "id": "hbJVpDHt8xya"
      },
      "execution_count": 30,
      "outputs": []
    },
    {
      "cell_type": "code",
      "source": [
        "sol.fit()"
      ],
      "metadata": {
        "colab": {
          "base_uri": "https://localhost:8080/"
        },
        "id": "IeM7yGdb5Y_2",
        "outputId": "4f8a8e48-7f79-40f0-e34a-5a83080fb6ba"
      },
      "execution_count": 31,
      "outputs": [
        {
          "output_type": "stream",
          "name": "stdout",
          "text": [
            "epoch_0: 0.40996675501950086\n",
            "epoch_1: 0.41451518119871616\n",
            "epoch_2: 0.4179455491635017\n",
            "epoch_3: 0.41965697512403133\n",
            "epoch_4: 0.41931505596265195\n",
            "epoch_5: 0.4212415689053014\n",
            "epoch_6: 0.4209454887192696\n",
            "epoch_7: 0.4206902553280816\n",
            "epoch_8: 0.4206857800697908\n",
            "epoch_9: 0.42220401181466877\n",
            "epoch_10: 0.4225088845090941\n",
            "epoch_11: 0.42127809999603777\n",
            "epoch_12: 0.4223796743499115\n",
            "epoch_13: 0.42314490593690424\n",
            "epoch_14: 0.4225236871326342\n",
            "epoch_15: 0.42267579738236966\n",
            "epoch_16: 0.42296321080904453\n",
            "epoch_17: 0.4231152542619966\n",
            "epoch_18: 0.42317845740402116\n",
            "epoch_19: 0.4241229712856002\n"
          ]
        }
      ]
    }
  ]
}